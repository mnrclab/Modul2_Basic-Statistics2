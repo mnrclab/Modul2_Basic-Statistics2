{
 "cells": [
  {
   "cell_type": "markdown",
   "metadata": {},
   "source": [
    "# **Basic Statistic**\n",
    "\n",
    "\n",
    "<hr>\n",
    "\n",
    "## Probability Distributions\n",
    "\n",
    "After studying Python Descriptive Statistics, now we are going to explore 4 Major Python Probability Distributions: Normal, Binomial, Poisson, and Bernoulli Distributions in Python. Moreover, we will learn how to implement these Python probability distributions with Python Programming.\n",
    "\n",
    "### What is Probability Distribution?\n",
    "A probability distribution is a function under probability theory and statistics- one that gives us how probable different outcomes are in an experiment. It describes events in terms of their probabilities; this is out of all possible outcomes. Let’s take the probability distribution of a fair coin toss. Here, heads take a value of X=0.5 and tails gets X=0.5 too.\n",
    "Two classes of such a distribution are discrete and continuous. The former represented by a probability mass function and the latter by a probability density function.\n",
    "\n",
    "Probability and Statistics are the foundational pillars of Data Science. In fact, the underlying principle of machine learning and artificial intelligence is nothing but statistical mathematics and linear algebra. Often you will encounter situations, especially in Data Science, where you have to read some research paper which involves a lot of maths in order to understand a particular topic and so if you want to get better at Data Science, it's imperative to have a strong mathematical understanding. "
   ]
  },
  {
   "cell_type": "markdown",
   "metadata": {},
   "source": [
    "<hr>\n",
    "\n",
    "## Random Variable\n",
    "\n",
    "A **random variable** is a variable whose possible values are numerical outcomes of a random phenomenon. There are two types of random variables, discrete and continuous.\n",
    "\n",
    "### ``a. Discrete Random Variable``\n",
    "A **discrete random variable** is one which may take on only a countable number of distinct values and thus can be quantified. For example, you can define a random variable X\n",
    "to be the number which comes up when you roll a fair dice. X can take values : [1,2,3,4,5,6] and therefore is a discrete random variable.\n",
    "\n",
    "The probability distribution of a discrete random variable is a list of probabilities associated with each of its possible values. It is also sometimes called the **probability function or the probability mass function**. To have a mathematical sense, suppose a random variable X may take k different values, with the probability that X=xi defined to be P(X=xi)=pi. Then the probabilities pi must satisfy the following:\n",
    "\n",
    "```\n",
    "1: 0 < pi < 1 for each i\n",
    "\n",
    "2: p1+p2+...+pk=1.\n",
    "```\n",
    "\n",
    "Some examples of discrete probability distributions are Bernoulli distribution, Binomial distribution, Poisson distribution etc.\n",
    "\n",
    "### ``b. Continuous Random Variable``\n",
    "\n",
    "A **continuous random variable** is one which takes an infinite number of possible values. For example, you can define a random variable X to be the height of students in a class. Since the continuous random variable is defined over an interval of values, it is represented by the area under a curve (or the integral).\n",
    "\n",
    "The probability distribution of a continuous random variable, known as **probability distribution function**s, are the functions that take on continuous values. The probability of observing any single value is equal to 0 since the number of values which may be assumed by the random variable is infinite. For example, a random variable X may take all values over an interval of real numbers. Then the probability that X is in the set of outcomes A,P(A), is defined to be the area above A and under a curve. The curve, which represents a function p(x), must satisfy the following:\n",
    "\n",
    "1: The curve has no negative values (p(x)>0for all x)\n",
    "\n",
    "2: The total area under the curve is equal to 1.\n",
    "\n",
    "A curve meeting these requirements is often known as a density curve. Some examples of continuous probability distributions are normal distribution, exponential distribution, beta distribution, etc.\n",
    "\n",
    "There’s another type of distribution that often pops up in literature which you should know about called cumulative distribution function. All random variables (discrete and continuous) have a cumulative distribution function. It is a function giving the probability that the random variable X is less than or equal to x, for every value x. For a discrete random variable, the cumulative distribution function is found by summing up the probabilities."
   ]
  },
  {
   "cell_type": "markdown",
   "metadata": {},
   "source": [
    "<hr>\n",
    "\n",
    "## **Types of Distribution**\n",
    "\n",
    "### 1. Normal Distribution\n",
    "\n",
    "<img src = 'h_img.jpg'>\n",
    "\n",
    "Normal Distribution, also known as Gaussian distribution, is ubiquitous in Data Science. You will encounter it at many places especially in topics of statistical inference. It is one of the assumptions of many data science algorithms too.\n",
    "\n",
    "A normal distribution has a bell-shaped density curve described by its mean μ and standard deviation σ. The density curve is symmetrical, centered about its mean, with its spread determined by its standard deviation showing that data near the mean are more frequent in occurrence than data far from the mean. \n",
    "\n",
    "Almost 68% of the data falls within a distance of one standard deviation from the mean on either side and 95% within two standard deviations. Also it worth mentioning that a distribution with mean 0 and standard deviation 1 is called a standard normal distribution.\n",
    "\n",
    "### 2. Uniform Distribution\n",
    "Perhaps one of the simplest and useful distribution is the uniform distribution. Since any interval of numbers of equal width has an equal probability of being observed, the curve describing the distribution is a rectangle, with constant height across the interval and 0 height elsewhere. Since the area under the curve must be equal to 1, the length of the interval determines the height of the curve. \n",
    "\n",
    "<img src= 'i_img.png'>\n",
    "\n",
    "![uniform](https://res.cloudinary.com/dyd911kmh/image/upload/f_auto,q_auto:best/v1539784816/output_13_1_vudpik.png)"
   ]
  },
  {
   "cell_type": "markdown",
   "metadata": {},
   "source": [
    "### 3. Gamma Distribution\n",
    "The gamma distribution is a two-parameter family of continuous probability distributions. While it is used rarely in its raw form but other popularly used distributions like exponential, chi-squared, erlang distributions are special cases of the gamma distribution. The gamma distribution can be parameterized in terms of a shape parameter α=k and an inverse scale parameter β=1/θ, called a rate parameter., the symbol Γ(n) is the gamma function and is defined as (n−1)!\n",
    "\n",
    "![gamma](https://res.cloudinary.com/dyd911kmh/image/upload/f_auto,q_auto:best/v1539784817/output_29_1_hvcvxi.png)\n",
    "\n",
    "### 4. Exponential Distribution\n",
    "The exponential distribution describes the time between events in a Poisson point process, i.e., a process in which events occur continuously and independently at a constant average rate. It has a parameter λ called rate parameter.\n",
    "\n",
    "![expo](https://res.cloudinary.com/dyd911kmh/image/upload/f_auto,q_auto:best/v1539784817/output_37_1_ljizay.png)"
   ]
  },
  {
   "cell_type": "markdown",
   "metadata": {},
   "source": [
    "### 5. Poisson  Distribution\n",
    "``Python Poisson distribution tells us about how probable it is that a certain number of events happen in a fixed interval of time or space. This assumes that these events happen at a constant rate and also independent of the last event.``\n",
    "\n",
    "Poisson random variable is typically used to model the number of times an event happened in a time interval. For example, the number of users visited on a website in an interval can be thought of a Poisson process. Poisson distribution is described in terms of the rate (μ) at which the events happen. An event can occur 0, 1, 2, … times in an interval. The average number of events in an interval is designated λ (lambda). Lambda is the event rate, also called the rate parameter.\n",
    "\n",
    "![poison](https://res.cloudinary.com/dyd911kmh/image/upload/f_auto,q_auto:best/v1539784818/output_45_1_mecnyp.png)\n",
    "\n",
    "### 6. Binomial Distribution\n",
    "``Python binomial distribution tells us the probability of how often there will be a success in n independent experiments. Such experiments are yes-no questions.``\n",
    "\n",
    "A distribution where only two outcomes are possible, such as success or failure, gain or loss, win or lose and where the probability of success and failure is same for all the trials is called a Binomial Distribution. However, The outcomes need not be equally likely, and each trial is independent of each other. The parameters of a binomial distribution are n and p where n is the total number of trials, and p is the probability of success in each trial. \n",
    "\n",
    "![bino](https://res.cloudinary.com/dyd911kmh/image/upload/f_auto,q_auto:best/v1539784818/output_53_1_fhfbxn.png)\n",
    "\n",
    "### 7. Bernoulli Distribution\n",
    "``Python  Bernoulli Distribution is a case of binomial distribution where we conduct a single experiment.``\n",
    "\n",
    "A Bernoulli distribution has only two possible outcomes, namely 1 (success) and 0 (failure), and a single trial, for example, a coin toss. So the random variable X which has a Bernoulli distribution can take value 1 with the probability of success, p, and the value 0 with the probability of failure, q or 1−p. The probabilities of success and failure need not be equally likely. The Bernoulli distribution is a special case of the binomial distribution where a single trial is conducted (n=1).. \n",
    "\n",
    "![berno](https://res.cloudinary.com/dyd911kmh/image/upload/f_auto,q_auto:best/v1539784819/output_60_1_brhkci.png)\n",
    "\n",
    "<hr>"
   ]
  },
  {
   "cell_type": "code",
   "execution_count": 1,
   "metadata": {},
   "outputs": [],
   "source": [
    "import numpy as np\n",
    "import pandas as pd\n",
    "\n",
    "from scipy import stats\n",
    "from scipy.stats import norm"
   ]
  },
  {
   "cell_type": "code",
   "execution_count": 2,
   "metadata": {},
   "outputs": [],
   "source": [
    "dist_discrete = [d for d in dir(stats) if\n",
    "                 isinstance(getattr(stats, d), stats.rv_discrete)]\n",
    "\n",
    "# dist_discrete"
   ]
  },
  {
   "cell_type": "code",
   "execution_count": 3,
   "metadata": {},
   "outputs": [],
   "source": [
    "dist_continu = [d for d in dir(stats) if\n",
    "                isinstance(getattr(stats, d), stats.rv_continuous)]\n",
    "# dist_continu"
   ]
  },
  {
   "cell_type": "markdown",
   "metadata": {},
   "source": [
    "**Common methods**\n",
    "\n",
    "The main public methods for continuous RVs are:\n",
    "\n",
    "-    rvs: Random Variates\n",
    "-    pdf: Probability Density Function\n",
    "-    cdf: Cumulative Distribution Function\n",
    "-    sf: Survival Function (1-CDF)\n",
    "-    ppf: Percent Point Function (Inverse of CDF)\n",
    "-    isf: Inverse Survival Function (Inverse of SF)\n",
    "-    stats: Return mean, variance, (Fisher’s) skew, or (Fisher’s) kurtosis\n",
    "-    moment: non-central moments of the distribution\n"
   ]
  },
  {
   "cell_type": "code",
   "execution_count": 4,
   "metadata": {},
   "outputs": [],
   "source": [
    "# create random variabel\n",
    "np.random.seed(0)\n",
    "x = stats.t.rvs(10, size=1000)\n",
    "# x"
   ]
  },
  {
   "cell_type": "code",
   "execution_count": 5,
   "metadata": {},
   "outputs": [
    {
     "name": "stdout",
     "output_type": "stream",
     "text": [
      "-4.349915343652356\n",
      "3.3300177244094877\n",
      "-0.020804264745137337\n",
      "1.1485536165256571\n"
     ]
    }
   ],
   "source": [
    "# DESCRIPTIVE ANALYSIS\n",
    "print(x.min())\n",
    "print(x.max())\n",
    "print(x.mean())\n",
    "print(x.var())"
   ]
  },
  {
   "cell_type": "markdown",
   "metadata": {},
   "source": [
    "<hr>\n",
    "\n",
    "### **Normal Distributions Test**\n",
    "\n",
    "Skewness dan kurtosis dapat menunjukkan kondisi pembagian atau distribusi data. Kondisi ideal adalah saat data terdistribusi normal, yakni saat skewness bernilai 0 dan kurtosis bernilai 3. Semakin jauh dari kondisi ideal berarti data tersebar semakin tidak ideal atau tidak merata."
   ]
  },
  {
   "cell_type": "markdown",
   "metadata": {},
   "source": [
    "### **a. Skewness Test**\n",
    "\n",
    "![Skew](https://upload.wikimedia.org/wikipedia/commons/thumb/f/f8/Negative_and_positive_skew_diagrams_%28English%29.svg/446px-Negative_and_positive_skew_diagrams_%28English%29.svg.png )\n",
    "\n",
    "![Skew](https://miro.medium.com/max/1400/1*i-_Bxmu3yQLh3K1ELGBMGA.png)\n",
    "\n",
    "Skewness diartikan sebagai kemiringan distribusi data. Yang dimaksud dengan kemiringan data adalah besarnya pembagian data atau rata-rata sebaran data yang biasanya di wujudkan dengan bentuk lonceng, untuk data yang berdistribusi normal. Begitu juga jika kita terapkan pada Skewness. Apabila skewness menunjukkan simetri maka dikatakan data membentuk distribusi normal, apabila kemiringan distribusi data agak condong ke kanan ditunjukkan dengan nilai skewness yang negative, selanjutnya apabila kemiringan distribusi data condong ke kiri yang ditunjukkan bahwa nilai skewness positif.\n",
    "\n",
    "``Skewness adalah ukuran ketidaksimetrisan dalam distribusi nilai.`` Skewness dapat bernilai positif, negatif, dan nol. Apabila nilai sk = 0, maka menunjukkan data berdistribusi normal, sk < 0 kemiringan ke kanan, dan sk > 0 kemiringan ke kiri. Sebagai contoh, jika diperoleh nilai sk = -0,807 adalah artinya merupakan nilai negatif, akan tetapi tidak jauh dari nilai, berarti data cenderung berdistribusi normal atau hampir normal.\n",
    "\n",
    "Skewness yang bernilai positif berarti ekor distribusi berada di sebelah kanan nilai terbanyak. Berarti, sebagian besar distribusi berada di nilai rendah. Skewness yang bernilai negatif berarti ekor distribusi berada di sebelah kiri, menunjukkan bahwa sebagian besar nilai berada di sisi kanan kurva. Sementara skewness bernilai nol berarti nilai terdistribusi secara simetris, dengan jarak antara ekor distribusi sebelah kanan dan kiri sama besar.\n",
    "\n",
    "**Standard:**\n",
    "-    If skewness is less than -1 or greater than 1, the distribution is highly skewed.\n",
    "-    If skewness is between -1 and -0.5 or between 0.5 and 1, the distribution is moderately skewed.\n",
    "-    If skewness is between -0.5 and 0.5, the distribution is approximately symmetric."
   ]
  },
  {
   "cell_type": "code",
   "execution_count": 6,
   "metadata": {},
   "outputs": [
    {
     "data": {
      "text/plain": [
       "SkewtestResult(statistic=-2.2233600068323978, pvalue=0.026191534195578802)"
      ]
     },
     "execution_count": 6,
     "metadata": {},
     "output_type": "execute_result"
    }
   ],
   "source": [
    "stats.skewtest(x)"
   ]
  },
  {
   "cell_type": "code",
   "execution_count": 7,
   "metadata": {},
   "outputs": [
    {
     "name": "stdout",
     "output_type": "stream",
     "text": [
      "normal skewtest teststat = -2.223 pvalue = 0.0262\n"
     ]
    }
   ],
   "source": [
    "print(f'normal skewtest teststat = %6.3f pvalue = %6.4f' % stats.skewtest(x))"
   ]
  },
  {
   "cell_type": "markdown",
   "metadata": {},
   "source": [
    "### **b. Kurtosis Test**\n",
    "\n",
    "<img src='g_img.png' style=\"width:250px;height:150px\"/>\n",
    "\n",
    "Kurtosis adalah indikator untuk menunjukkan derajat keruncingan (tailedness). Semakin besar nilai kurtosis maka kurva semakin runcing.\n",
    "\n",
    "Nilai referensi kurtosis adalah 3. Jika nilai kurtosis lebih besar dari 3, maka kurva distribusi disebut leptokurtik. Sementara jika lebih rendah dari 3, maka disebut platikurtik. Sedangkan nilai kurtosis sama dengan 3 bermakna kurva distribusi normal atau mesokurtik atau mesokurtotik."
   ]
  },
  {
   "cell_type": "code",
   "execution_count": 8,
   "metadata": {},
   "outputs": [
    {
     "name": "stdout",
     "output_type": "stream",
     "text": [
      "normal kurtosistest teststat =  2.023 pvalue = 0.0431\n"
     ]
    }
   ],
   "source": [
    "print('normal kurtosistest teststat = %6.3f pvalue = %6.4f' % stats.kurtosistest(x))"
   ]
  },
  {
   "cell_type": "markdown",
   "metadata": {},
   "source": [
    "### **Normaltest : combine kurto & skew**\n",
    "\n",
    "#### **1. D’Agostino and Pearson’s**\n",
    "``This function tests the null hypothesis that a sample comes from a normal distribution``. It is based on D’Agostino and Pearson’s test that combines skew and kurtosis to produce an omnibus test of normality."
   ]
  },
  {
   "cell_type": "code",
   "execution_count": 9,
   "metadata": {},
   "outputs": [
    {
     "name": "stdout",
     "output_type": "stream",
     "text": [
      "normaltest teststat =  9.034 pvalue = 0.0109\n"
     ]
    }
   ],
   "source": [
    "print('normaltest teststat = %6.3f pvalue = %6.4f' % stats.normaltest(x))"
   ]
  },
  {
   "cell_type": "code",
   "execution_count": 37,
   "metadata": {},
   "outputs": [
    {
     "name": "stdout",
     "output_type": "stream",
     "text": [
      "p = 0.01091938210055716\n",
      "The null hypothesis cannot be rejected/ Hipotesis nol diterima\n"
     ]
    }
   ],
   "source": [
    "k2, p = stats.normaltest(x)\n",
    "alpha = 0.001\n",
    "print(f\"p = {p}\")\n",
    "\n",
    "if p < alpha:  # null hypothesis: x comes from a normal distribution\n",
    "    print(\"The null hypothesis can be rejected/ Hipotesis nol ditolak\")\n",
    "else:\n",
    "    print(\"The null hypothesis cannot be rejected/ Hipotesis nol diterima\")"
   ]
  },
  {
   "cell_type": "markdown",
   "metadata": {},
   "source": [
    "#### **Shapiro-Wilk test**\n",
    "The Shapiro-Wilk test tests the null hypothesis that the data was drawn from a normal distribution."
   ]
  },
  {
   "cell_type": "code",
   "execution_count": 11,
   "metadata": {},
   "outputs": [
    {
     "name": "stdout",
     "output_type": "stream",
     "text": [
      "p = 0.01584695465862751\n",
      "The null hypothesis cannot be rejected\n"
     ]
    }
   ],
   "source": [
    "k2, p = stats.shapiro(x)\n",
    "alpha = 0.001\n",
    "print(f\"p = {p}\")\n",
    "\n",
    "if p < alpha:  # null hypothesis: x comes from a normal distribution\n",
    "    print(\"The null hypothesis can be rejected\")\n",
    "else:\n",
    "    print(\"The null hypothesis cannot be rejected\")"
   ]
  },
  {
   "cell_type": "markdown",
   "metadata": {},
   "source": [
    "<hr>\n",
    "\n",
    "## **Outlier**: How if Distribution isn't normal?\n",
    "### **What is outlier?**\n",
    "\n",
    "Wikipedia definition,\n",
    "In statistics, an outlier is an observation point that is distant from other observations.\n",
    "\n",
    "<img src = \"a_img.png\" style=\"width:250px;height:150px\"/>"
   ]
  },
  {
   "cell_type": "markdown",
   "metadata": {},
   "source": [
    "### **How did an outlier introduce to the population?**\n",
    "\n",
    "* The outliers can be a result of a mistake during data collection\n",
    "* It can be just an indication of variance in your data.\n",
    "\n",
    "<img src=\"b_img.png\" style=\"width:200px;height:150px\"/>"
   ]
  },
  {
   "cell_type": "markdown",
   "metadata": {},
   "source": [
    "### **How to detect outliers?**\n",
    "\n",
    "1. Standard Deviation\n",
    "2. Boxplot & IQR Score\n",
    "3.  Z-Score\n",
    "* Etc. (DB Scan Clustering, Isolation Forest, Robust Random Cut Forest)"
   ]
  },
  {
   "cell_type": "markdown",
   "metadata": {},
   "source": [
    "#### **``1. Standard Deviation``**\n",
    "In statistics, If a data distribution is approximately normal then about 68% of the data values lie within one standard deviation of the mean and about 95% are within two standard deviations, and about 99.7% lie within three standard deviations\n",
    "\n",
    "Therefore, if you have any data point that is **more than 3 times the standard deviation**, then those points are very likely to be anomalous or **outliers**.\n",
    "\n",
    "<img src=\"c_img.png\" style=\"width:400px;height:200px\"/>"
   ]
  },
  {
   "cell_type": "code",
   "execution_count": 12,
   "metadata": {},
   "outputs": [],
   "source": [
    "# create random data\n",
    "random_data = np.random.randn(500)  * 20 + 20"
   ]
  },
  {
   "cell_type": "code",
   "execution_count": 31,
   "metadata": {},
   "outputs": [],
   "source": [
    "# Function to Detection Outlier \n",
    "def find_anomalies(data):\n",
    "    anomalies = []\n",
    "    random_data_std = np.std(data)\n",
    "    random_data_mean = np.mean(data)\n",
    "    anomaly_gate = random_data_std * 2\n",
    "    \n",
    "    lower_limit = random_data_mean - anomaly_gate \n",
    "    upper_limit = random_data_mean + anomaly_gate\n",
    "    print(f'batas bawah: {lower_limit}')\n",
    "    print(f'batas atas: {upper_limit}')\n",
    "\n",
    "    for outlier in data:\n",
    "        if outlier > upper_limit or outlier < lower_limit:\n",
    "            anomalies.append(outlier)\n",
    "    return anomalies"
   ]
  },
  {
   "cell_type": "code",
   "execution_count": 23,
   "metadata": {},
   "outputs": [
    {
     "name": "stdout",
     "output_type": "stream",
     "text": [
      "batas bawah: -39.01058740624568\n",
      "batas atas: 79.04615765580718\n"
     ]
    },
    {
     "data": {
      "text/plain": [
       "[]"
      ]
     },
     "execution_count": 23,
     "metadata": {},
     "output_type": "execute_result"
    }
   ],
   "source": [
    "find_anomalies(random_data)"
   ]
  },
  {
   "cell_type": "code",
   "execution_count": 35,
   "metadata": {},
   "outputs": [
    {
     "name": "stdout",
     "output_type": "stream",
     "text": [
      "batas bawah: -0.32455532033675905\n",
      "batas atas: 12.32455532033676\n"
     ]
    },
    {
     "data": {
      "text/plain": [
       "[]"
      ]
     },
     "execution_count": 35,
     "metadata": {},
     "output_type": "execute_result"
    }
   ],
   "source": [
    "data_test = [1,2,3,4,5,6,7,8,9,10, 11]\n",
    "find_anomalies(data_test)"
   ]
  },
  {
   "cell_type": "markdown",
   "metadata": {},
   "source": [
    "#### **``2. Boxplot & IQR``**\n",
    "\n",
    "* Box plots are a graphical depiction of numerical data through their quartiles. \n",
    "\n",
    "* The concept of the Interquartile Range (IQR) is used to build the boxplot graphs. IQR is a concept in statistics that is used to measure the statistical dispersion and data variability by dividing the dataset into quartiles.\n",
    "\n",
    "<img src=\"d_img.png\" style=\"width:400px;height:150px\"/>\n",
    "\n",
    "* Interquartile Range (IQR) is important because it is used to define the outliers. \n",
    "\n",
    "* It is the difference between the third quartile and the first quartile (IQR = Q3 -Q1). \n",
    "\n",
    "* Outliers in this case are defined as the observations that are below (Q1 − 1.5x IQR) or boxplot lower whisker or above (Q3 + 1.5x IQR) or boxplot upper whisker.\n",
    "\n",
    "<img src=\"e_img.png\" style=\"width:400px;height:450px\"/>\n"
   ]
  },
  {
   "cell_type": "markdown",
   "metadata": {},
   "source": [
    "## **Take Home Exercise**\n",
    "### Buat function yang bisa mendeteksi outliers menggunakan teori IQR\n",
    "### IQR = Q3 - Q1\n",
    "### Outliers = kurang dari (Q1 - 1.5* IQR) dan lebih dari (Q3 + 1.5* IQR) "
   ]
  },
  {
   "cell_type": "code",
   "execution_count": 40,
   "metadata": {},
   "outputs": [],
   "source": [
    "contoh = [1,2,3,4,5,6,7,8,9,900, 30, 40]"
   ]
  },
  {
   "cell_type": "code",
   "execution_count": 38,
   "metadata": {},
   "outputs": [],
   "source": [
    "def describe(yourList):    \n",
    "    # mean\n",
    "    total = 0\n",
    "    for i in range(len(yourList)):\n",
    "        total += yourList[i]\n",
    "    mean = total / len(yourList)\n",
    "    \n",
    "    # median\n",
    "    yourList.sort()\n",
    "    if len(yourList) % 2 == 0:\n",
    "        titik = len(yourList) / 2\n",
    "        median = (yourList[int(titik)-1] + yourList[int(titik)]) / 2\n",
    "    if len(yourList) % 2 == 1:\n",
    "        median = yourList[int(len(yourList)/2)]\n",
    "    \n",
    "    # Q1\n",
    "    Q1List = yourList[yourList.index(min(yourList)) : yourList.index(round(median))] \n",
    "    if len(Q1List) % 2 == 0:\n",
    "        titik_Q1 = len(Q1List) / 2\n",
    "        Q1 = (yourList[int(titik_Q1)-1] + yourList[int(titik_Q1)]) / 2\n",
    "    else:\n",
    "        Q1 = Q1List[int(len(Q1List) / 2)]\n",
    "    \n",
    "    # Q3\n",
    "    Q3List = yourList[yourList.index(round(median)):] \n",
    "    if len(Q3List) % 2 == 0:\n",
    "        titik_Q3 = len(Q3List) / 2\n",
    "        Q3 = (yourList[int(titik_Q3)-1] + yourList[int(titik_Q3)]) / 2\n",
    "    else:\n",
    "        Q3 = Q3List[int(len(Q3List) / 2)]\n",
    "    \n",
    "    # modus\n",
    "    hitung = []\n",
    "    mode = []\n",
    "    for i in range(len(yourList)):\n",
    "        hitung.append(yourList.count(yourList[i]))\n",
    "    terbesar = max(hitung)\n",
    "    mode = yourList[hitung.index(terbesar)]\n",
    "    \n",
    "    # standart deviasi\n",
    "    newList = []\n",
    "    for j in range(len(yourList)):\n",
    "        newList.append((yourList[j]-mean)**2)\n",
    "    total2 = 0\n",
    "    for k in range(len(newList)):\n",
    "        total2 += newList[k]\n",
    "    std = (total2 / (len(yourList)-1)) ** 0.5\n",
    "    \n",
    "    # varians\n",
    "    variance = std ** 2\n",
    "    \n",
    "    # seleksi outlier\n",
    "    IQR = (Q3 - Q1) * 1.5\n",
    "    batas_bawah = Q1 - IQR\n",
    "    batas_atas = Q3 + IQR\n",
    "    outlier = ''\n",
    "    for i in range(len(yourList)):\n",
    "        if yourList[i] > batas_atas:\n",
    "            outlier = outlier + str(yourList[i]) + ', '\n",
    "        if yourList[i] < batas_bawah:\n",
    "            outlier = outlier + str(yourList[i]) + ', '\n",
    "            \n",
    "    print(\"Jumlah data = \", len(yourList))\n",
    "    print(\"Nilai minimum = \", min(yourList))\n",
    "    print(\"Nilai maksimum = \", max(yourList))    \n",
    "    print(\"Nilai rata-rata (mean) = \", mean)\n",
    "    print(\"Nilai tengah (median/Q2) = {}\".format(median))\n",
    "    print(\"Nilai Q1: {} dan Q3: {}.\".format(Q1, Q3))\n",
    "    print(\"Nilai yang sering muncul (mode) = {}\".format(mode))\n",
    "    print(\"Nilai standart deviasi = \", std)\n",
    "    print(\"Nilai varians = \", variance)\n",
    "    print(\"Nilai yang outlier = \", outlier)"
   ]
  },
  {
   "cell_type": "code",
   "execution_count": 44,
   "metadata": {},
   "outputs": [
    {
     "name": "stdout",
     "output_type": "stream",
     "text": [
      "Jumlah data =  12\n",
      "Nilai minimum =  1\n",
      "Nilai maksimum =  900\n",
      "Nilai rata-rata (mean) =  84.58333333333333\n",
      "Nilai tengah (median/Q2) = 6.5\n",
      "Nilai Q1: 3 dan Q3: 9.\n",
      "Nilai yang sering muncul (mode) = 1\n",
      "Nilai standart deviasi =  257.0696609988441\n",
      "Nilai varians =  66084.81060606062\n",
      "Nilai yang outlier =  30, 40, 900, \n"
     ]
    }
   ],
   "source": [
    "describe(contoh)"
   ]
  },
  {
   "cell_type": "code",
   "execution_count": 42,
   "metadata": {
    "jupyter": {
     "source_hidden": true
    }
   },
   "outputs": [],
   "source": [
    "def kuartil(x):\n",
    "    x.sort()\n",
    "    if len(x)%2 == 0:\n",
    "        q2 = ( x[ (len(x) - 1 ) // 2 ] + x[ ((len(x) - 1)// 2) + 1] ) / 2\n",
    "        new_x = x.copy()\n",
    "        new_x1 = new_x[ : len(x)//2 ]\n",
    "        new_x3 = new_x[ len(x)//2 : ]\n",
    "      \n",
    "    elif len(x)%2 != 0:\n",
    "        q2 = x[ (len(x) - 1 ) // 2 ]\n",
    "        del x[ (len(x) - 1 ) // 2 ]\n",
    "        new_x = x.copy()\n",
    "        new_x1 = new_x[ : len(new_x)//2]\n",
    "        new_x3 = new_x[len(new_x)//2 : ]\n",
    "\n",
    "    if len(new_x1) % 2 != 0 and len(new_x3) % 2 != 0:\n",
    "        q1 = new_x1[ (len(new_x1) - 1) // 2]\n",
    "        q3 = new_x3[ (len(new_x3) - 1) // 2]\n",
    "\n",
    "    elif len(new_x1) % 2 == 0 and len(new_x3) % 2 == 0:\n",
    "        q1 = ( new_x1[ (len(new_x1) - 1 ) // 2 ] + new_x1[ ((len(new_x1) - 1)// 2) + 1] ) / 2\n",
    "        q3 = ( new_x3[ (len(new_x3) - 1 ) // 2 ] + new_x3[ ((len(new_x3) - 1)// 2) + 1] ) / 2\n",
    "\n",
    "    return (q1,q2,q3,new_x1,new_x3)\n",
    "    # return f'q1 = {q1}, q2 = {q2}, q3= {q3}, new_x1 = {new_x1}, new_x3 = {new_x3}'\n",
    "\n",
    "def iqr(x):\n",
    "    q1 = kuartil(x)[0]\n",
    "    q3 = kuartil(x)[2]\n",
    "    iqr = abs(q1 - q3)\n",
    "    return (iqr)\n",
    "\n",
    "def outlier(x):\n",
    "    q1 = kuartil(x)[0]\n",
    "    q3 = kuartil(x)[2]\n",
    "    iqr_final = iqr(x)\n",
    "\n",
    "    bottom_threshold = q1 - (1.5 * iqr_final)\n",
    "    top_threshold = q3 + (1.5 * iqr_final)\n",
    "\n",
    "    result = []\n",
    "    for i in x:\n",
    "        if i < bottom_threshold or i > top_threshold:\n",
    "            result.append(i)\n",
    "    return result"
   ]
  },
  {
   "cell_type": "code",
   "execution_count": 43,
   "metadata": {},
   "outputs": [
    {
     "data": {
      "text/plain": [
       "[900]"
      ]
     },
     "execution_count": 43,
     "metadata": {},
     "output_type": "execute_result"
    }
   ],
   "source": [
    "outlier(contoh)"
   ]
  },
  {
   "cell_type": "code",
   "execution_count": 16,
   "metadata": {},
   "outputs": [
    {
     "data": {
      "text/plain": [
       "<matplotlib.axes._subplots.AxesSubplot at 0x1138a670>"
      ]
     },
     "execution_count": 16,
     "metadata": {},
     "output_type": "execute_result"
    },
    {
     "data": {
      "image/png": "[encoded data removed]",
      "text/plain": [
       "<Figure size 432x288 with 1 Axes>"
      ]
     },
     "metadata": {
      "needs_background": "light"
     },
     "output_type": "display_data"
    }
   ],
   "source": [
    "import seaborn as sns\n",
    "import matplotlib.pyplot as plt\n",
    "\n",
    "sns.boxplot(data=random_data)"
   ]
  },
  {
   "cell_type": "code",
   "execution_count": 17,
   "metadata": {
    "jupyter": {
     "source_hidden": true
    }
   },
   "outputs": [
    {
     "data": {
      "text/plain": [
       "'88.69615105605321, 80.66054328480055, -56.49880292865349, -36.604580158997386, '"
      ]
     },
     "execution_count": 17,
     "metadata": {},
     "output_type": "execute_result"
    }
   ],
   "source": [
    "list_random_data = random_data.tolist()\n",
    "\n",
    "Q2 = np.quantile(list_random_data, .50) #median\n",
    "Q1 = np.quantile(list_random_data, .25)\n",
    "Q3 = np.quantile(list_random_data, .75)\n",
    "\n",
    "IQR = (Q3 - Q1) * 1.5\n",
    "batas_bawah = Q1 - IQR\n",
    "batas_atas = Q3 + IQR\n",
    "\n",
    "def find_outlier(yourList):\n",
    "    outlier = ''\n",
    "    for i in range(len(yourList)):\n",
    "        if yourList[i] > batas_atas:\n",
    "            outlier = outlier + str(yourList[i]) + ', '\n",
    "        if yourList[i] < batas_bawah:\n",
    "            outlier = outlier + str(yourList[i]) + ', '\n",
    "    return outlier\n",
    "\n",
    "find_outlier(list_random_data)"
   ]
  },
  {
   "cell_type": "code",
   "execution_count": 18,
   "metadata": {
    "jupyter": {
     "source_hidden": true
    }
   },
   "outputs": [
    {
     "data": {
      "text/plain": [
       "'-2000, 300, 600, 800, '"
      ]
     },
     "execution_count": 18,
     "metadata": {},
     "output_type": "execute_result"
    }
   ],
   "source": [
    "random_data = np.random.randn(500)  * 20 + 20\n",
    "list_coba_coba = [-2000, 1,2,300,4,5,600,7,800,9,100,12,13,15,16,17,120]\n",
    "\n",
    "def find_outlier(yourList):\n",
    "    Q1 = np.quantile(yourList, .25)\n",
    "    Q2 = np.quantile(yourList, .50) #median\n",
    "    Q3 = np.quantile(yourList, .75)\n",
    "\n",
    "    IQR = (Q3 - Q1) * 1.5\n",
    "    batas_bawah = Q1 - IQR\n",
    "    batas_atas = Q3 + IQR\n",
    "    \n",
    "    outlier = ''\n",
    "    for i in range(len(yourList)):\n",
    "        if yourList[i] > batas_atas:\n",
    "            outlier = outlier + str(yourList[i]) + ', '\n",
    "        if yourList[i] < batas_bawah:\n",
    "            outlier = outlier + str(yourList[i]) + ', '\n",
    "    return outlier\n",
    "\n",
    "find_outlier(list_coba_coba)"
   ]
  },
  {
   "cell_type": "markdown",
   "metadata": {},
   "source": [
    "#### **3. Z-Score**\n",
    "\n",
    "* The Z-score is the signed number of standard deviations by which the value of an observation or data point is above the mean value of what is being observed or measured (Wikipedia).\n",
    "\n",
    "* Z-score is finding the distribution of data where mean is 0 and standard deviation is 1 i.e. normal distribution.\n",
    "\n",
    "* While calculating the Z-score we re-scale and center the data and look for data points which are too far from zero. These data points which are way too far from zero will be treated as the outliers. \n",
    "\n",
    "* In most of the cases a threshold of 3 or -3 is used i.e if the Z-score value is greater than or less than 3 or -3 respectively, that data point will be identified as outliers."
   ]
  },
  {
   "cell_type": "code",
   "execution_count": 19,
   "metadata": {},
   "outputs": [
    {
     "data": {
      "text/plain": [
       "[15, 43, 160, 311, 329, 484]"
      ]
     },
     "execution_count": 19,
     "metadata": {},
     "output_type": "execute_result"
    }
   ],
   "source": [
    "list_random_data = random_data.tolist()\n",
    "z_score = np.abs(stats.zscore(list_random_data))\n",
    "\n",
    "#threshold = 2.5\n",
    "search_outlier = np.where(z_score > 2.5)\n",
    "index_outlier = list(search_outlier)[0].tolist()\n",
    "index_outlier"
   ]
  },
  {
   "cell_type": "code",
   "execution_count": 20,
   "metadata": {},
   "outputs": [
    {
     "data": {
      "text/plain": [
       "[-36.7279923308712,\n",
       " 70.7955148315452,\n",
       " -35.6850016120186,\n",
       " 69.48705403302081,\n",
       " -30.946990146008872,\n",
       " 77.25100884451307]"
      ]
     },
     "execution_count": 20,
     "metadata": {},
     "output_type": "execute_result"
    }
   ],
   "source": [
    "# where is the data?\n",
    "data_outlier = []\n",
    "for i in index_outlier:\n",
    "    data_outlier.append(list_random_data[i])\n",
    "\n",
    "data_outlier"
   ]
  },
  {
   "cell_type": "code",
   "execution_count": 21,
   "metadata": {},
   "outputs": [
    {
     "data": {
      "text/plain": [
       "[-36.7279923308712,\n",
       " 70.7955148315452,\n",
       " -35.6850016120186,\n",
       " 69.48705403302081,\n",
       " -30.946990146008872,\n",
       " 77.25100884451307]"
      ]
     },
     "execution_count": 21,
     "metadata": {},
     "output_type": "execute_result"
    }
   ],
   "source": [
    "data_outlier = [list_random_data[i] for i in index_outlier]\n",
    "data_outlier"
   ]
  },
  {
   "cell_type": "markdown",
   "metadata": {},
   "source": [
    "### **How would we decide, this outliers are important or not?**\n",
    "\n",
    "* If they are the result of a mistake, then we can ignore them.\n",
    "\n",
    "* If it is just a variance in the data we would need think a bit further.\n",
    "\n",
    "<img src=\"f_img.png\" style=\"width:300px;height:200px\"/>"
   ]
  },
  {
   "cell_type": "code",
   "execution_count": null,
   "metadata": {},
   "outputs": [],
   "source": []
  },
  {
   "cell_type": "markdown",
   "metadata": {},
   "source": [
    "<hr>\n",
    "\n",
    "### **Reference**:\n",
    "- Scipy, \"Statistics (scipy.stats)\", https://docs.scipy.org/doc/scipy/reference/tutorial/stats.html\n",
    "- Manish Pathak, \"Probability Distributions in Python\", https://www.datacamp.com/community/tutorials/probability-distributions-python\n",
    "- cmdline, \"Probability Distributions in Python with SciPy and Seaborn\", https://cmdlinetips.com/2018/03/probability-distributions-in-python/\n",
    "- Stanford, \"Python for Probability\", http://web.stanford.edu/class/archive/cs/cs109/cs109.1192/handouts/pythonForProbability.html\n",
    "- Christian Pascual, \"Tutorial: Basic Statistics in Python — Probability\", https://www.dataquest.io/blog/basic-statistics-in-python-probability/\n",
    "- Code Fellows, \"Statistics 2: Probability, Distributions, & Tests\", https://codefellows.github.io/sea-python-401d2/lectures/stats_day2.html#Probability-Distributions \n",
    "-  DataFlair Team, \"Python Probability Distributions – Normal, Binomial, Poisson, Bernoulli\", https://data-flair.training/blogs/python-probability-distributions/"
   ]
  }
 ],
 "metadata": {
  "kernelspec": {
   "display_name": "Python 3.8.1 32-bit",
   "language": "python",
   "name": "python38132bitf9f79e71b62e4503b25567c1d3914456"
  },
  "language_info": {
   "codemirror_mode": {
    "name": "ipython",
    "version": 3
   },
   "file_extension": ".py",
   "mimetype": "text/x-python",
   "name": "python",
   "nbconvert_exporter": "python",
   "pygments_lexer": "ipython3",
   "version": "3.8.1"
  }
 },
 "nbformat": 4,
 "nbformat_minor": 4
}
